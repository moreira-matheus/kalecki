{
 "cells": [
  {
   "cell_type": "markdown",
   "metadata": {},
   "source": [
    "KALECKI, Michal. The Marxian equations of reproduction and modern economics. **Information (International Social Science Council)**, v. 7, n. 6, p. 73-79, 1968."
   ]
  },
  {
   "cell_type": "markdown",
   "metadata": {},
   "source": [
    "## $\\textrm{I}$\n",
    "\n",
    "Modifying Marx's economy division into departments:\n",
    "- \"in order to focus on the basic problem of the reproduction schemes.\"\n",
    "\n",
    "<u>First</u>: Department 1 will cover \"the total value of gross investment inclusive of the respective raw materials.\"\n",
    "- \"represents the integrated production of all final non-consumer products.\"\n",
    "\n",
    "<u>Second</u>: we include in the consumer goods' department \"the production of respective raw material from top to bottom\".\n",
    "\n",
    "<u>Moreover</u>: we distinguish \"Department 2 producing consumer goods for capitalists and Department 3 producing wage goods\".\n",
    "\n",
    "<br/>\n",
    "\n",
    "*Tableau Économique* of the National Income:\n",
    "\n",
    "<img src='tableau.PNG'>\n",
    "\n",
    "\"where $P_1, P_2, P_3$ are gross profits (before deduction of depreciation) in the respective departments, $W_1, W_2, W_3$ - the respective wages; $P$ and $W$ aggregate profits and wages , and finally $I$ - gross investment, $C_k$ - capitalists' consumption, $C_w$ - workers' consumption and $Y$ - gross national income (before deduction of depreciation).\""
   ]
  },
  {
   "cell_type": "markdown",
   "metadata": {},
   "source": [
    "## $\\textrm{II}$\n",
    "\n",
    "\"It will be assumed \\[...\\] that the workers do not save\":\n",
    "- \"Moreover, we shall disregard the problem of possible piling up of stocks of unsold goods as only a passing phenomenon.\"\n",
    "- \"It is then easy to arrive at the fundamental Marxian 'equation of exchange' between Department 1 and 2 on the one hand and Department 3 on the other.\"\n",
    "\n",
    "Marx's **equation of exchange**:\n",
    "- Profits in Department 3 ($P_3$): \"materialised in the wage goods which are left to capitalists of that department after payment of wages $W_3$ which absorb an equal amount of wage goods.\"\n",
    "    - \"Thus the wage-goods of the value $P_3$ are sold to the workers of Department 1 and 2\": $P_3 = W_1 + W_2 \\quad\\textrm{(1)}$ ;\n",
    "    - \"Marx considers this equation in the context of expanded reproduction proceeding at a given constant rate $r$. <u>It is easy to see, however, that the equation holds good under all circumstances as long as there is no piling up of stocks of unsold goods</u>, as mentioned above.\"\n",
    "    - It \"leads to a proposition that - given the distribution of income between profits and wages in the three departments - investment $I$ and consumption of capitalists $C_k$ determine profits and the national income.\"\n",
    "    - Adding $P_1 + P_2$ to both sides: $P_1 + P_2 + P_3 = P_1 + W_1 + P_2 + W_2 \\quad\\Rightarrow\\quad P = I + C_k \\quad\\textrm{(2)}$.\n",
    "\n",
    "<br/>\n",
    "\n",
    "- \"\\[I\\]f we denote $\\displaystyle\\frac{W_1}{I} , \\displaystyle\\frac{W_2}{C_k}, \\displaystyle\\frac{W_3}{C_w}$ by $w_1, w_2, w_3$, respectively, we obtain: $P_3 = W_1 + W_2 \\quad\\Rightarrow\\quad (1-w_3) C_w = w_1 I + w_2 C_k$ :\n",
    "    - \"Consequently, we have for the consumption of wage goods\": $C_w = \\displaystyle\\frac{w_1 I + w_2 C_k}{1-w_3} \\quad\\textrm{(3)}$;\n",
    "    - \"and for the national income\": $Y = I + C_k + C_w = I + C_k + \\displaystyle\\frac{w_1 I + w_2 C_k}{1-w_3} \\quad\\textrm{(4)}$.\n",
    "\n",
    "<br/>\n",
    "\n",
    "- \"Thus the national income (or product) $Y$ which can be sold and the profits $P$ which can be realised are determined in all circumstances \\[...\\] by the level of investment $I$ and consumption of capitalists $C_k$ (given the distribution of income between wages and profits).\"\n",
    "- \"A question may be raised as to why equations (2) and (4) must be interpreted in this way and not the other way around, *i.e.*, that investment and consumption of capitalists are determined by profits and national income\":\n",
    "    - \"Investment and capitalists' consumption in the short period considered are the outcome of decisions taken in the past and thus should be considered as given.\"\n",
    "        - \"With regard to investment, this follows directly from the time-lag dependent on the period of construction. But changes in capitalists' consumption also follow those in profits with some delay.\"\n",
    "        - \"Now, sales and profits in a given period cannot be a direct outcome of past decisions: the capitalists cand ecide how much they will invest and consume next year but they cannot decide how much they shall sell and profit.\"\n",
    "        - \"The independent variables in a given period are investment and capitalists' consumption.\""
   ]
  },
  {
   "cell_type": "markdown",
   "metadata": {},
   "source": [
    "## $\\textrm{III}$\n",
    "\n",
    "- \"The decisions of capitalists with regard to their investment and consumpton are made in 'real' rather than in money terms\":\n",
    "    - \"$I$ and $C_k$ should be calculated in stable prices.\"\n",
    "- If $w_1, w_2, w_3$ are constant and money wage rates in all three departments change in the same proportion, the same is true in this case of prices of the produce (*sic*) of these departments.\"\n",
    "\t- \"Moreover, \\[...\\] equations (2) and (3) will hold also in 'real' terms.\"\n",
    "- \"Any increase in 'real' investment or capitalists' consumption results, under these circumstances, in an increase in output of Department 3 ($C_w$), toprovide for a surplus of this department ($P_3$) sufficient to meet the demand generated by higher wage bills in Department 1 and 2 ($W_1 + W_2$).\"\n",
    "    - \"However, such repercussions of an increase in $I$ or $C_k$ are obviously possible only if there exist unused capacities in Department 3.\"\n",
    "    - \"Imagine that such is not the case\":\n",
    "        - \"Then $C_w$ is fixed in real terms\": $C_w = B$;\n",
    "        - \"In this case the increase in money value of $W_1 + W_2$ will cause a rise in prices rather than in production of wage goods.\"\n",
    "        - \"The result will be that the 'real' value of $W_1, W_2, W_3$ will be reduced as compared with the levels which would be achieved if unused capacities existed in Department 3.\"\n",
    "        - \"Consequently $w_1 = \\displaystyle\\frac{W_1}{I}$, $w_2 = \\displaystyle\\frac{W_2}{C_k}$, $w_3 = \\displaystyle\\frac{W_3}{C_w} = \\displaystyle\\frac{W_3}{B}$ - where all magnitudes involved are to be now interpreted in 'real' terms - will decline in the proportion reciprocal to the increase in the prices of wage goods.\"\n",
    "    - \"Equation (3) can be now rewritten in the form: $\\displaystyle\\frac{w_1 I + w_2 C_k}{1 - w_3} = B$ \":\n",
    "        - \"When $I$ and/or $C_k$ decrease, $w_1$, $w_2$ and $w_3$ decline in such a proportion as to render the left hand side of the equation equal to $B$.\"\n",
    "\n",
    "____\n",
    "\n",
    "<u>Sections II and III represent in fact the gist of the modern theory of effective demand. As will be seen, this theory may be derived in full from the Marxian equation (1) representing the exchange between Departments 1 and 2 on the one hand and Department 3 on the other, if this equation is considered in the general context rather than in that of uniformly expanding reproduction.</u>"
   ]
  },
  {
   "cell_type": "markdown",
   "metadata": {},
   "source": [
    "## $\\textrm{IV}$\n",
    "\n",
    "Turning to the significance of equations (2) and (4) in the process of a uniform accumulation of capital:\n",
    "\n",
    "$K$ : 'real' stock of capital;\n",
    "\n",
    "$r$ : rate of net accumulation;\n",
    "\n",
    "$\\delta$ : rate of depreciation\n",
    "\n",
    "**Equation of accumulation**: $I = (r + \\delta) K \\quad\\textrm{(5)}$\n",
    "\n",
    "\"Since we are considering the long-run process of growth, let us postulate that capitalists' consumption ($C_k$) is proportional to profits ($P$)\":\n",
    "- \"Since according to (2) the latter are equal to $I + C_k$, it follows that $C_k$ bears a constant relationship to $I$\": $C_k = mI$.\n",
    "- \"In consequence we may write equation (4) in the form: $Y = (1+m)I + \\displaystyle\\frac{I(w_1 + m w_2)}{1 - w_3} = I \\Bigg(1+m+\\displaystyle\\frac{w_1 + m w_2}{1-w_3}\\Bigg) \\quad\\textrm{(6)}$\" ;\n",
    "- \"and substituting in it for $I$ its value from equation (5) we obtain: $Y=K(r+\\delta) \\Bigg( 1+m+ \\displaystyle\\frac{w_1 + m w_2}{1-w_3} \\Bigg) \\quad\\textrm{(7)}$\".\n",
    "\n",
    "\"The national income ($Y$) thus bears a constant relationship to the stock of capital $K$ (provided that $w_1, w_2, w_3$ do not change).\"\n",
    "- \"With a given relationship of productive capacity to the stock of capital the degree of utilisation of equipment is constant.\"\n",
    "- \"Thus if capital equipment is satisfactorily utilised in the initial position, this state of affairs is maintained in the course of expanded reproduction and the problem of effective demand does not arise.\"\n",
    "\n",
    "\"It is this approach that is inherent in many contemporary theories of economic growth.\"\n",
    "- \"In particular if we differentiate the equation (7) we obtain: $\\displaystyle\\frac{dY}{dK} = \\displaystyle\\frac{Y}{K} = \\displaystyle\\frac{rY}{rK} = r \\displaystyle\\frac{Y}{rK}$ .\"\n",
    "- \"Now, with a constant satisfactory utilisation of equipment, $\\displaystyle\\frac{dK}{dY}$ is the so-called capital-output ratio which we denote by $R$.\"\n",
    "    - \"Moreover, $rK$ is the *net* investment and thus $\\displaystyle\\frac{rK}{Y}$ is the relative share of accumulation in the national income which we shall denote by $a$.\"\n",
    "    - \"We thus have: $\\displaystyle\\frac{1}{R} = \\displaystyle\\frac{r}{a}$ or $r = \\displaystyle\\frac{a}{R}$ which is the basic formula of the [Harrod-Domar theory](https://en.wikipedia.org/wiki/Harrod%E2%80%93Domar_model) (in which, however, the coefficient $a$ represents the 'propensity to save of the population' rather than the ratio of net accumulation out of profits to the national income - which depends on its distribution between capitalists and workers).\""
   ]
  },
  {
   "cell_type": "markdown",
   "metadata": {},
   "source": [
    "## $\\textrm{V}$\n",
    "\n"
   ]
  },
  {
   "cell_type": "code",
   "execution_count": null,
   "metadata": {},
   "outputs": [],
   "source": []
  }
 ],
 "metadata": {
  "kernelspec": {
   "display_name": "Python 3",
   "language": "python",
   "name": "python3"
  },
  "language_info": {
   "codemirror_mode": {
    "name": "ipython",
    "version": 3
   },
   "file_extension": ".py",
   "mimetype": "text/x-python",
   "name": "python",
   "nbconvert_exporter": "python",
   "pygments_lexer": "ipython3",
   "version": "3.7.3"
  }
 },
 "nbformat": 4,
 "nbformat_minor": 2
}
